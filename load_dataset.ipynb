{
 "cells": [
  {
   "cell_type": "code",
   "execution_count": null,
   "metadata": {},
   "outputs": [
    {
     "name": "stderr",
     "output_type": "stream",
     "text": [
      "2024-11-15 18:19:23.096527: E tensorflow/compiler/xla/stream_executor/cuda/cuda_dnn.cc:9342] Unable to register cuDNN factory: Attempting to register factory for plugin cuDNN when one has already been registered\n",
      "2024-11-15 18:19:23.096563: E tensorflow/compiler/xla/stream_executor/cuda/cuda_fft.cc:609] Unable to register cuFFT factory: Attempting to register factory for plugin cuFFT when one has already been registered\n",
      "2024-11-15 18:19:23.096600: E tensorflow/compiler/xla/stream_executor/cuda/cuda_blas.cc:1518] Unable to register cuBLAS factory: Attempting to register factory for plugin cuBLAS when one has already been registered\n"
     ]
    }
   ],
   "source": [
    "import os\n",
    "import logging\n",
    "import rasterio\n",
    "import numpy as np\n",
    "import tensorflow as tf\n",
    "import matplotlib.pyplot as plt\n",
    "from datetime import datetime\n",
    "from pathlib import Path\n",
    "from sklearn.model_selection import train_test_split"
   ]
  },
  {
   "cell_type": "markdown",
   "metadata": {},
   "source": [
    "### Logging"
   ]
  },
  {
   "cell_type": "code",
   "execution_count": null,
   "metadata": {},
   "outputs": [],
   "source": [
    "logging.basicConfig(level=logging.INFO)\n",
    "logger = logging.getLogger(__name__)\n",
    "\n",
    "logging.basicConfig(level=logging.INFO, format='%(asctime)s - %(levelname)s - %(message)s')\n",
    "logger = logging.getLogger(__name__)"
   ]
  },
  {
   "cell_type": "markdown",
   "metadata": {},
   "source": [
    "### Load Dataset"
   ]
  },
  {
   "cell_type": "code",
   "execution_count": null,
   "metadata": {},
   "outputs": [],
   "source": [
    "def load_geotiff(file_path):\n",
    "    \"\"\"Load and preprocess a GeoTIFF file using rasterio instead of geotiff package\"\"\"\n",
    "    try:\n",
    "        with rasterio.open(file_path) as src:\n",
    "            # Read all bands\n",
    "            array = src.read()\n",
    "            \n",
    "            # Get nodata value\n",
    "            nodata = src.nodata or 32767  # Use 32767 as default nodata value \n",
    "            \n",
    "            # Convert to float32 for processing\n",
    "            array = array.astype(np.float32)\n",
    "            \n",
    "            # Handle nodata values\n",
    "            array[array == nodata] = 0\n",
    "            \n",
    "            # Transpose from (bands, height, width) to (height, width, bands)\n",
    "            array = np.transpose(array, (1, 2, 0))\n",
    "            \n",
    "            # Split into image and mask\n",
    "            image = array[:, :, :3]\n",
    "            mask = array[:, :, 3:4]  # Keep the mask as (H,W,1)\n",
    "            \n",
    "            # Normalize image to [0,1] range\n",
    "            image = image / 255.0\n",
    "            image = np.clip(image, 0, 1)\n",
    "            \n",
    "            # Binarize mask\n",
    "            mask = (mask > 0).astype(np.float32)\n",
    "            \n",
    "            # Check if mask has any positive pixels\n",
    "            if not np.any(mask):\n",
    "                return None, None\n",
    "            \n",
    "            return image, mask\n",
    "            \n",
    "    except Exception as e:\n",
    "        logger.error(f\"Error processing {file_path}: {str(e)}\")\n",
    "        return None, None\n",
    "            \n",
    "    except Exception as e:\n",
    "        logger.error(f\"Error processing {file_path}: {str(e)}\")\n",
    "        return None\n",
    "\n",
    "def prepare_dataset(data_dir, image_size=(128, 128)):\n",
    "    \"\"\"Prepare dataset for training\"\"\"\n",
    "    images = []\n",
    "    masks = []\n",
    "    file_paths = []\n",
    "    data_dir = Path(data_dir)\n",
    "    logger.info(f\"Looking for TIF files in: {data_dir}\")\n",
    "    \n",
    "    tif_files = list(data_dir.glob('**/*.[Tt][Ii][Ff]')) + \\\n",
    "                list(data_dir.glob('**/*.[Tt][Ii][Ff][Ff]'))\n",
    "    \n",
    "    logger.info(f\"Found {len(tif_files)} TIF files\")\n",
    "    \n",
    "    for i, file_path in enumerate(tif_files):\n",
    "        if i % 100 == 0:\n",
    "            logger.info(f\"Processing file {i+1}/{len(tif_files)}\")\n",
    "            \n",
    "        img, mask = load_geotiff(str(file_path))\n",
    "        if img is not None and mask is not None:\n",
    "            # Resize image and mask\n",
    "            img = tf.image.resize(img, image_size)\n",
    "            mask = tf.image.resize(mask, image_size, method='nearest')\n",
    "            \n",
    "            # Ensure float32 dtype\n",
    "            img = tf.cast(img, tf.float32)\n",
    "            mask = tf.cast(mask, tf.float32)\n",
    "            \n",
    "            images.append(img)\n",
    "            masks.append(mask)\n",
    "            file_paths.append(file_path)\n",
    "    \n",
    "    if not images:\n",
    "        raise ValueError(f\"No valid images found in {data_dir}\")\n",
    "    \n",
    "    images_array = np.array(images)\n",
    "    masks_array = np.array(masks)\n",
    "    \n",
    "    logger.info(f\"Final dataset shape: {images_array.shape}, masks shape: {masks_array.shape}\")\n",
    "    logger.info(f\"Number of images with masks: {len(images)}\")\n",
    "    \n",
    "    return images_array, masks_array, file_paths\n",
    "\n",
    "def visualize_samples(images, file_paths, title, num_samples=16, save_path='/app/plots/'):\n",
    "    \"\"\"Visualize a grid of sample images\"\"\"\n",
    "    plt.close('all')\n",
    "    \n",
    "    rows = int(np.sqrt(num_samples))\n",
    "    cols = int(np.ceil(num_samples / rows))\n",
    "\n",
    "    fig = plt.figure(figsize=(20, 20))\n",
    "    \n",
    "    indices = np.random.choice(len(images), num_samples, replace=False)\n",
    "    \n",
    "    for i, idx in enumerate(indices):\n",
    "        plt.subplot(rows, cols, i + 1)\n",
    "        \n",
    "        img = images[idx]\n",
    "        filename = Path(file_paths[idx]).name\n",
    "        \n",
    "        mean_val = np.mean(img)\n",
    "        std_val = np.std(img)\n",
    "        min_val = np.min(img)\n",
    "        max_val = np.max(img)\n",
    "        \n",
    "        # Display the image\n",
    "        plt.imshow(img)\n",
    "        plt.title(f'Title: {title}\\n' +\n",
    "                f'File: {filename}\\n' + \n",
    "                 f'Range: [{min_val:.3f}, {max_val:.3f}]')\n",
    "        plt.axis('off')\n",
    "    \n",
    "    plt.tight_layout()\n",
    "    \n",
    "    plt.show()"
   ]
  },
  {
   "cell_type": "code",
   "execution_count": null,
   "metadata": {},
   "outputs": [],
   "source": [
    "IMAGE_SIZE = (128, 128)\n",
    "logger.info(\"Loading dataset...\")\n",
    "X, y, file_paths = prepare_dataset('/app/data', IMAGE_SIZE)"
   ]
  },
  {
   "cell_type": "markdown",
   "metadata": {},
   "source": [
    "### Train/Test Split"
   ]
  },
  {
   "cell_type": "code",
   "execution_count": null,
   "metadata": {},
   "outputs": [],
   "source": [
    "BATCH_SIZE = 32\n",
    "EPOCHS = 100\n",
    "\n",
    "X_train, X_val, y_train, y_val = train_test_split(\n",
    "        X, y, \n",
    "        test_size=0.2, \n",
    "        random_state=42\n",
    "    )\n",
    "logger.info(f\"Training set: {X_train.shape}, {y_train.shape}\")\n",
    "logger.info(f\"Validation set: {X_val.shape}, {y_val.shape}\")"
   ]
  }
 ],
 "metadata": {
  "kernelspec": {
   "display_name": "Python 3",
   "language": "python",
   "name": "python3"
  },
  "language_info": {
   "codemirror_mode": {
    "name": "ipython",
    "version": 3
   },
   "file_extension": ".py",
   "mimetype": "text/x-python",
   "name": "python",
   "nbconvert_exporter": "python",
   "pygments_lexer": "ipython3",
   "version": "3.11.0"
  }
 },
 "nbformat": 4,
 "nbformat_minor": 2
}
